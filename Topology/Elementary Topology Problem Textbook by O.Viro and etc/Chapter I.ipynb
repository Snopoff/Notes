{
 "cells": [
  {
   "cell_type": "markdown",
   "metadata": {},
   "source": [
    "# Part 1. General Topology\n",
    "## Chapter I. Structures and Spaces\n",
    "### 1. Digression on Sets"
   ]
  },
  {
   "cell_type": "markdown",
   "metadata": {},
   "source": [
    "<a href=\"https://github.com/Snopoff/Notes/blob/master/Algebra/Algebra.Chapter%200%20by%20P.%20Aluffi/Chapter%20I.ipynb\">A paragraph devoted to Set Theory in Aluffi's Algebra</a>"
   ]
  },
  {
   "cell_type": "markdown",
   "metadata": {},
   "source": [
    "### 2. Topology in a Set\n",
    "Let $ X $ be a set. Let $ \\Omega $ be a collection of its subsets such that:\n",
    " 1. $ \\emptyset $ and $ X $ belong to $ \\Omega $;\n",
    " 2. the union of any collection of sets that are elements of $ \\Omega $ belongs to $ \\Omega $;\n",
    " 3. the intersection of any finite collection of sets that are elements of $ \\Omega $ belongs to $ \\Omega $."
   ]
  },
  {
   "cell_type": "markdown",
   "metadata": {},
   "source": [
    "Then:\n",
    " * $ \\Omega $ is a **topological structure** or just **topology** in $ X $;\n",
    " * the pair $ (X,\\Omega) $ is a **topological space**;\n",
    " * elements of $ X $ are **points** of this topological space;\n",
    " * elements of $ \\Omega $ are **open sets** of the topological space $ (X,\\Omega) $."
   ]
  },
  {
   "cell_type": "markdown",
   "metadata": {},
   "source": [
    "<br>**<span style='color:green'>Examples:</span>**\n",
    "<br>A **discrete topological space** is a set with the topological structure consisting of all subsets: $$ \\Omega = 2^{X} $$\n",
    "<br>An **indiscrete topological space** is a set with the topological structure consisting of only $ X $ and $ \\emptyset $: $$ \\Omega = \\{\\emptyset, X\\} $$\n",
    "<br>Let $ X = \\mathbb{R} $ and $ \\Omega $ is the set of unions of all intervals $ (a,b) $ with $ a,b \\in \\mathbb{R} $. This space is called the **real line** and the structure is referred to as the **canonical** or **standard** topology in $ \\mathbb{R} $.\n",
    "<br>The **arrow** is a topological space such that $ X := [0,+\\infty) $ and $ \\Omega := \\{(a,+\\infty) | a \\geq 0\\} $."
   ]
  }
 ],
 "metadata": {
  "kernelspec": {
   "display_name": "Python 3",
   "language": "python",
   "name": "python3"
  },
  "language_info": {
   "codemirror_mode": {
    "name": "ipython",
    "version": 3
   },
   "file_extension": ".py",
   "mimetype": "text/x-python",
   "name": "python",
   "nbconvert_exporter": "python",
   "pygments_lexer": "ipython3",
   "version": "3.7.1"
  }
 },
 "nbformat": 4,
 "nbformat_minor": 2
}
