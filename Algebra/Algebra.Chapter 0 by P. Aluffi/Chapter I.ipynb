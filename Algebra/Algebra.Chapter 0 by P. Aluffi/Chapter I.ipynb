{
 "cells": [
  {
   "cell_type": "markdown",
   "metadata": {},
   "source": [
    "# Chapter I.Preliminaries: Set theory and categories"
   ]
  },
  {
   "cell_type": "markdown",
   "metadata": {},
   "source": [
    "## 1. Naive set theory"
   ]
  },
  {
   "cell_type": "markdown",
   "metadata": {},
   "source": [
    "### 1.1. Sets.\n",
    "**Set** -'Collection of objects'. A set is determined by the **elements** it contains. $ A := \\{1,2,3\\} $\n",
    "<br>**Multiset** - a set, in which the elements are allowed to appear 'with multiplicity'. $ B := \\{1,2,2,3\\} $\n",
    "<br>**Singleton** - set, consisting of 1 element. $ C := \\{2\\} $\n",
    "<br>A few famous sets are:"
   ]
  },
  {
   "cell_type": "markdown",
   "metadata": {},
   "source": [
    "![Empty set and sets of numbers](Pictures/Sets.png)"
   ]
  },
  {
   "cell_type": "markdown",
   "metadata": {},
   "source": [
    "Here are **quantifiers**:\n",
    " * $ \\exists $ means *there exists...* (the **existential** quantifier);\n",
    " * $ \\forall $ means *for all...* (the **universal** quantifier)."
   ]
  },
  {
   "cell_type": "markdown",
   "metadata": {},
   "source": [
    "### 1.2. Inclusion of sets.\n",
    "We say that a set $ S $ is a **subset** of a set $ T $ if every element of $ S $ is an element of $ T $, in symbols, $ S \\subseteq T $.\n",
    "<br>The symbol $ |S| $ denotes the **number of elements** of $ S $. \n",
    "<br>If $ S $ and $ T $ are finite, then, obviously $ S \\subseteq T \\implies |S| \\leq |T| $.\n",
    "<br>**Power set** - a set of the subsets of a set $ S $. The power set of $ S $ is denoted $ \\mathcal{P}(S) $, also can be denoted $ 2^{S} $, that is because of a fact, that $ |\\mathcal{P}(S)| = 2^{|S|} $"
   ]
  },
  {
   "cell_type": "markdown",
   "metadata": {},
   "source": [
    "### 1.3. Operations between sets.\n"
   ]
  },
  {
   "cell_type": "markdown",
   "metadata": {},
   "source": [
    "Standard operations between sets are:"
   ]
  },
  {
   "cell_type": "markdown",
   "metadata": {},
   "source": [
    "![Standard Operations on sets](Pictures/StandardOperationsOnSets.png)"
   ]
  },
  {
   "cell_type": "markdown",
   "metadata": {},
   "source": [
    "![Venn Diagram of first 4 operations](Pictures/VennDiagram.png)"
   ]
  },
  {
   "cell_type": "markdown",
   "metadata": {},
   "source": [
    "Two sets are **disjoint** if $ S \\cap T = \\emptyset $\n",
    "<br>The **complement** of a subset $ T $in a set $ S $ is the difference set $ S\\setminus T $"
   ]
  },
  {
   "cell_type": "markdown",
   "metadata": {},
   "source": [
    "### 1.4. Disjoint unions, products.\n",
    "Roughly speaking, the **disjoint union** of 2 sets $ S $ and $ T $ is a set $ S\\sqcup T $ obtaing by producing 'copies' $ S' $ and $ T' $ such that $ S' \\cap T' = \\emptyset $, and then taking the (ordinary) union of $ S' $ and $ T' $. So basically $$ S \\sqcup T := S' \\cup T' : S' \\cap T = \\emptyset, S' \\subseteq S , T' \\subseteq T $$\n",
    "<br>**The Cartesian product** of 2 sets $ S $ and $ T $ is a set $ S \\times T $ whose elements are the **ordered pairs** $ (s,t) $ of elements of $ S $ and $ T $: $$ S \\times T := \\{(s,t): s \\in S, t \\in T\\} $$\n",
    "Obviously, $ |S \\times T| = |S| |T| $\n",
    "<br>The operations $ \\cup, \\cap, \\sqcup, \\times $ exted to operations on whole 'families' of sets: if $ S_1, \\dots, S_n$ are sets, then:\n",
    "$$ \\bigcap_{i=1}^{n}S_i = S_1 \\cap S_2 \\cap \\dots \\cap S_n $$\n",
    "More generally, is $ \\mathcal{P} $ is a *set of sets*, we may consider sets \n",
    "$$ \\bigcup_{S \\in \\mathcal{P}}S, \\bigcap_{S \\in \\mathcal{P}}S, \\bigsqcup_{S \\in \\mathcal{P}}S, \\prod_{S \\in \\mathcal{P}}S $$\n",
    "for the union, intersection, disjoint union and product of all sets in $ \\mathcal{P} $."
   ]
  },
  {
   "cell_type": "markdown",
   "metadata": {},
   "source": [
    "### 1.5. Equivalence relations, partitions, quotients.\n",
    "**A relation** $ \\mathcal{R} $ on a set $ S $ is a *subset* $ R $ of the product $ S \\times S $, such that if $ (a,b) \\in R $ than $ a $ and $ b $ are 'related by $ \\mathcal{R} $' and it writes $ a\\mathcal{R}b $. \n",
    "<br> Some relations : $ <, \\leq, =, \\thicksim $\n",
    "<br>❎**<span style='color:green'>Example:</span>** $ \\mathcal{R} $ is $ = $, then a subset $ R \\subset S \\times S: R = \\{(a,b) \\in S \\times S | a = b\\} $\n",
    "**An equivalence relation** on a set $ S $ is any relation $ \\thicksim $ satisfying 3 properties:\n",
    " * **reflexivity**: $ (\\forall a \\in S) $  $ a \\thicksim a $;\n",
    " * **symmetry**: $ (\\forall a \\in S) (\\forall b \\in S) $  $ a\\thicksim b \\Longrightarrow b \\thicksim a$;\n",
    " * **transitivity**: $ (\\forall a \\in S) (\\forall b \\in S) (\\forall c \\in S) $ $ (a \\thicksim b \\land b \\thicksim c) \\Longrightarrow a \\thicksim c$;\n",
    "<br>**A partition** of $ S $ is a family of *disjoint* nonempty subsets of $ S $, *whose union is $ S $*.\n",
    "<br>**Equivalence class** of $ a \\in S $ is the subset of $ S $ defined by:\n",
    "$$ [a]_{\\thicksim} := \\{b \\in S | b \\thicksim a\\} $$\n",
    "The equivalence classes form a partition $ \\mathcal{P}_{\\thicksim} $ of $ S $.\n",
    "$$ \\mathcal{P}_{\\thicksim}(S) := \\{[p]_{\\thicksim}^{(i)}, i \\in I\\} $$\n",
    "Conversely every partition is the partition corresponding to an equivalence relation. Therefore the notions of 'equivalence relation on $ S $' and 'partition of $ S $' are really equivalent.\n",
    "<br>**The quotient** of the set $ S $ **with respect** to the equivalence relation $ \\thicksim $ is the set $$ S/\\thicksim := \\mathcal{P}_{\\thicksim} $$\n",
    "of equivalence classes of elements of $ S $ with respect to $ \\thicksim $."
   ]
  }
 ],
 "metadata": {
  "kernelspec": {
   "display_name": "Python 3",
   "language": "python",
   "name": "python3"
  },
  "language_info": {
   "codemirror_mode": {
    "name": "ipython",
    "version": 3
   },
   "file_extension": ".py",
   "mimetype": "text/x-python",
   "name": "python",
   "nbconvert_exporter": "python",
   "pygments_lexer": "ipython3",
   "version": "3.7.1"
  }
 },
 "nbformat": 4,
 "nbformat_minor": 2
}
