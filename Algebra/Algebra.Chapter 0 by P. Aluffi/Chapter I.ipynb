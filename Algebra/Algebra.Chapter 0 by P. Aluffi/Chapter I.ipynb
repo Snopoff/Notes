{
 "cells": [
  {
   "cell_type": "markdown",
   "metadata": {},
   "source": [
    "# Chapter I.Preliminaries: Set theory and categories\n",
    "## 1. Naive set theory\n",
    "### 1.1. Sets.\n",
    "**Set** -'Collection of objects'. A set is determined by the **elements** it contains. $ A = \\{1,2,3\\}$\n",
    "<br>**Multiset** - a set, in which the elements are allowed to appear 'with multiplicity'. $ B = \\{1,2,2,3\\}$\n",
    "<br>**Singleton** - set, consisting of 1 element. $ C = \\{2\\}$\n",
    "<br>A few famous sets are:\n",
    "<img src = \"Pictures/Sets.png\">\n",
    "### 1.2. Inclusion of sets.\n",
    "We say that a set $ S $ is a **subset** of a set $ T $ if every element of $ S $ is an element of $ T $, in symbols, $ S \\subseteq T $.\n",
    "<br>The symbol $ |S| $ denotes the **number of elements** of $ S $. \n",
    "<br>If $ S $ and $ T $ are finite, then, obviously $ S \\subseteq T \\implies |S| \\leq |T| $.\n",
    "<br>**Power set** - a set of the subsets of a set $ S $. The power set of $ S $ is denoted $ \\mathcal{P}(S) $, also can be denoted $ 2^{S} $, that is because of a fact, that $ |\\mathcal{P}(S)| = 2^{|S|} $\n",
    "### 1.3. Operations between sets."
   ]
  },
  {
   "cell_type": "code",
   "execution_count": null,
   "metadata": {},
   "outputs": [],
   "source": []
  }
 ],
 "metadata": {
  "kernelspec": {
   "display_name": "Python 3",
   "language": "python",
   "name": "python3"
  },
  "language_info": {
   "codemirror_mode": {
    "name": "ipython",
    "version": 3
   },
   "file_extension": ".py",
   "mimetype": "text/x-python",
   "name": "python",
   "nbconvert_exporter": "python",
   "pygments_lexer": "ipython3",
   "version": "3.7.1"
  }
 },
 "nbformat": 4,
 "nbformat_minor": 2
}
