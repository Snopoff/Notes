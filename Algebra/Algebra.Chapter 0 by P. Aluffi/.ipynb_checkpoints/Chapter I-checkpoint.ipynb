{
 "cells": [
  {
   "cell_type": "markdown",
   "metadata": {},
   "source": [
    "# Chapter I.Preliminaries: Set theory and categories"
   ]
  },
  {
   "cell_type": "markdown",
   "metadata": {},
   "source": [
    "## 1. Naive set theory"
   ]
  },
  {
   "cell_type": "markdown",
   "metadata": {},
   "source": [
    "### 1.1. Sets.\n",
    "**Set** -'Collection of objects'. A set is determined by the **elements** it contains. $ A := \\{1,2,3\\} $\n",
    "<br>**Multiset** - a set, in which the elements are allowed to appear 'with multiplicity'. $ B := \\{1,2,2,3\\} $\n",
    "<br>**Singleton** - set, consisting of 1 element. $ C := \\{2\\} $\n",
    "<br>A few famous sets are:"
   ]
  },
  {
   "cell_type": "markdown",
   "metadata": {},
   "source": [
    "![Empty set and sets of numbers](Pictures/Sets.png)"
   ]
  },
  {
   "cell_type": "markdown",
   "metadata": {},
   "source": [
    "Here are **quantifiers**:\n",
    " * $ \\exists $ means *there exists...* (the **existential** quantifier);\n",
    " * $ \\forall $ means *for all...* (the **universal** quantifier)."
   ]
  },
  {
   "cell_type": "markdown",
   "metadata": {},
   "source": [
    "### 1.2. Inclusion of sets.\n",
    "We say that a set $ S $ is a **subset** of a set $ T $ if every element of $ S $ is an element of $ T $, in symbols, $ S \\subseteq T $.\n",
    "<br>The symbol $ |S| $ denotes the **number of elements** of $ S $. \n",
    "<br>If $ S $ and $ T $ are finite, then, obviously $ S \\subseteq T \\implies |S| \\leq |T| $.\n",
    "<br>**Power set** - a set of the subsets of a set $ S $. The power set of $ S $ is denoted $ \\mathcal{P}(S) $, also can be denoted $ 2^{S} $, that is because of a fact, that $ |\\mathcal{P}(S)| = 2^{|S|} $"
   ]
  },
  {
   "cell_type": "markdown",
   "metadata": {},
   "source": [
    "### 1.3. Operations between sets.\n"
   ]
  },
  {
   "cell_type": "markdown",
   "metadata": {},
   "source": [
    "Standard operations between sets are:"
   ]
  },
  {
   "cell_type": "markdown",
   "metadata": {},
   "source": [
    "![Standard Operations on sets](Pictures/StandardOperationsOnSets.png)"
   ]
  },
  {
   "cell_type": "markdown",
   "metadata": {},
   "source": [
    "![Venn Diagram of first 4 operations](Pictures/VennDiagram.png)"
   ]
  },
  {
   "cell_type": "markdown",
   "metadata": {},
   "source": [
    "Two sets are **disjoint** if $ S \\cap T = \\emptyset $\n",
    "<br>The **complement** of a subset $ T $in a set $ S $ is the difference set $ S\\setminus T $"
   ]
  },
  {
   "cell_type": "markdown",
   "metadata": {},
   "source": [
    "### 1.4. Disjoint unions, products.\n",
    "Roughly speaking, the **disjoint union** of 2 sets $ S $ and $ T $ is a set $ S\\sqcup T $ obtaing by producing 'copies' $ S' $ and $ T' $ such that $ S' \\cap T' = \\emptyset $, and then taking the (ordinary) union of $ S' $ and $ T' $. So basically $$ S \\sqcup T := S' \\cup T' : S' \\cap T = \\emptyset, S' \\subseteq S , T' \\subseteq T $$\n",
    "<br>**The Cartesian product** of 2 sets $ S $ and $ T $ is a set $ S \\times T $ whose elements are the **ordered pairs** $ (s,t) $ of elements of $ S $ and $ T $: $$ S \\times T := \\{(s,t): s \\in S, t \\in T\\} $$\n",
    "Obviously, $ |S \\times T| = |S| |T| $\n",
    "<br>The operations $ \\cup, \\cap, \\sqcup, \\times $ exted to operations on whole 'families' of sets: if $ S_1, \\dots, S_n$ are sets, then:\n",
    "$$ \\bigcap_{i=1}^{n}S_i = S_1 \\cap S_2 \\cap \\dots \\cap S_n $$\n",
    "More generally, is $ \\mathcal{P} $ is a *set of sets*, we may consider sets \n",
    "$$ \\bigcup_{S \\in \\mathcal{P}}S, \\bigcap_{S \\in \\mathcal{P}}S, \\bigsqcup_{S \\in \\mathcal{P}}S, \\prod_{S \\in \\mathcal{P}}S $$\n",
    "for the union, intersection, disjoint union and product of all sets in $ \\mathcal{P} $."
   ]
  },
  {
   "cell_type": "markdown",
   "metadata": {},
   "source": [
    "### 1.5. Equivalence relations, partitions, quotients.\n",
    "**A relation** $ \\mathcal{R} $ on a set $ S $ is a *subset* $ R $ of the product $ S \\times S $, such that if $ (a,b) \\in R $ than $ a $ and $ b $ are 'related by $ \\mathcal{R} $' and it writes $ a\\mathcal{R}b $. \n",
    "<br> Some relations : $ <, \\leq, =, \\thicksim $"
   ]
  },
  {
   "cell_type": "markdown",
   "metadata": {},
   "source": [
    "<br>❎**<span style='color:green'>Example:</span>** $ \\mathcal{R} $ is $ = $, then a subset $ R \\subset S \\times S: R = \\{(a,b) \\in S \\times S | a = b\\} $"
   ]
  },
  {
   "cell_type": "markdown",
   "metadata": {},
   "source": [
    "<br>**An equivalence relation** on a set $ S $ is any relation $ \\thicksim $ satisfying 3 properties:\n",
    " * **reflexivity**: $ (\\forall a \\in S) $  $ a \\thicksim a $;\n",
    " * **symmetry**: $ (\\forall a \\in S) (\\forall b \\in S) $  $ a\\thicksim b \\Longrightarrow b \\thicksim a$;\n",
    " * **transitivity**: $ (\\forall a \\in S) (\\forall b \\in S) (\\forall c \\in S) $ $ (a \\thicksim b \\land b \\thicksim c) \\Longrightarrow a \\thicksim c$;\n",
    "<br>**A partition** of $ S $ is a family of *disjoint* nonempty subsets of $ S $, *whose union is $ S $*.\n",
    "<br>**Equivalence class** of $ a \\in S $ is the subset of $ S $ defined by:\n",
    "$$ [a]_{\\thicksim} := \\{b \\in S | b \\thicksim a\\} $$\n",
    "The equivalence classes form a partition $ \\mathcal{P}_{\\thicksim} $ of $ S $.\n",
    "$$ \\mathcal{P}_{\\thicksim}(S) := \\{[p]_{\\thicksim}^{(i)}, i \\in I\\} $$\n",
    "Conversely every partition is the partition corresponding to an equivalence relation. Therefore the notions of 'equivalence relation on $ S $' and 'partition of $ S $' are really equivalent.\n",
    "<br>**The quotient** of the set $ S $ **with respect** to the equivalence relation $ \\thicksim $ is the set $$ S/\\thicksim := \\mathcal{P}_{\\thicksim} $$\n",
    "of equivalence classes of elements of $ S $ with respect to $ \\thicksim $."
   ]
  },
  {
   "cell_type": "markdown",
   "metadata": {},
   "source": [
    "## 2. Functions between sets"
   ]
  },
  {
   "cell_type": "markdown",
   "metadata": {},
   "source": [
    "### 2.1. Definition.\n",
    "**Graph of a function $ f $** is a set $ \\Gamma_{f} $ such that:\n",
    "$$ \\Gamma_{f} := \\{(a,b) \\in A \\times B | b = f(a)\\} \\subseteq A \\times B $$\n",
    "There's a requierment on the subsets $ \\Gamma \\subseteq A \\times B $ to be a graph of a function: $$ (\\forall a \\in A) (\\exists! b \\in B) \\: f(a) = b $$\n",
    "To announce that $ f $ is a function from a set $ A $ to a set $ B $, one writes $ f: A \\rightarrow B $, or draw the following picture('diagram'):\n",
    "$$ A \\xrightarrow{\\text{f}} B $$\n",
    "The action of a function $ f: A \\rightarrow B $ on an element $ a \\in A $ is sometime indicated by a 'decorated' arrow, as in\n",
    "$$ a \\mapsto f(a) $$\n",
    "The collection of all function from a set $ A $ to a set $ B $ is itself a set, denoted by $ B^{A} $. We can view $ B^{A} $ as a (special) subset of the power set of $ A \\times B $.\n",
    "Every set A comes equipped with a very special function, whose graph is the diagonal in $ A \\times A $: the **identity function** on A:\n",
    "$$ id_{A}:A \\rightarrow A $$\n",
    "defined by $ (\\forall a \\in A) \\: id_{A}(a) = a $. More generally, the **inclusion** of any subset $ S $ of a set $ A $ determines a function $ S \\rightarrow A $, sending every element $ s $ of $ S $ to 'itself' in $ A $.\n",
    "if $ S \\subseteq A $, we denote $ f(S) $ the subset of $ B $ defined by:\n",
    "$$ f(S) := \\{b \\in B | (\\exists a \\in A) \\: b = f(a)\\} $$\n",
    "That is, $ f(S) $ is the subset of $ B $ consisting of all elements that are images of elements of $ S $ by the function $ f $. The largest such subset, that is, $ f(A) $, is calles the **image** of $ f $, denoted $ im(f) $.\n",
    "Also, $ f|_{S} $ denotes the 'restriction' of f to the subset $ S $: this is the function $ S \\rightarrow B $ defined by\n",
    "$$ (\\forall s \\in S): \\: f | _{S}(s) = f(s) $$\n",
    "That is, $ f|_{S} $ is the *composition* $ f \\circ i $, where $ i: S \\rightarrow A $ is the inclusion. Note that $ f(S) = im(f|_{S}) $."
   ]
  },
  {
   "cell_type": "markdown",
   "metadata": {},
   "source": [
    "### 2.2. Examples: Multisets, indexed sets.\n",
    "The 'multisets' mentioned in §1.1 are an example of a notion easily formalized by means of functions. A multiset ma be defined by giving a function from a set $ A $ to the set $ \\mathbb{N}^{*} = \\mathbb{N}\\setminus \\{0\\} $ of positive integers, if $ m:A \\rightarrow \\mathbb{N}^{*} $ is such a function, the corresponding multiset consists of the elements $ a \\in A $, each taken $ m(a) $ times. Thus the multiset $ \\{a,a,a,b,b,b,b,b,c\\} $ is really the function $ m: \\{a,b,c\\} \\rightarrow \\mathbb{N}^{*} $ where $ m(a) = 3 $, $ m(b) = 5 $, $ m(c) = 1 $.\n",
    "<br>Another example is given by the use of 'indices'. If we write $ \\mathrm{let \\: a_{1},\\dots,a_{n} \\: be \\: integers \\dots,} $ we really mean $ \\mathrm{consider \\: a \\: function \\: a:\\{1,\\dots,n\\} \\rightarrow \\mathbb{Z}\\dots,} $ with the understanding that $ a_{i} $ is shorthand for the value $a(i)$(for $ i = 1,\\dots,n $). It's tempting to think of an **indexed set** $ \\{a_{i}\\}_{i \\in I} $ simply as a set whose elements happen to be denoted $ a_{i} $, for $ i $ ranging over some 'set of indices' $ I $;but such an indexed set is more properly a *function* $ I \\rightarrow A $, where $ A $ is some set from which we draw the elements $ a_{i} $."
   ]
  },
  {
   "cell_type": "markdown",
   "metadata": {},
   "source": [
    "### 2.3. Composition of functions.\n",
    "Functions may be **composed**: if $ f: A \\rightarrow B $ and $ g: B \\rightarrow C $ are functions, then so is the operation $ g \\circ f $ defined by\n",
    "$$ (\\forall a \\in A) \\: (g \\circ f)(a) := g(f(a)) $$\n",
    "That is, we use $ f $ to go from $ A $ to $ B $, then apply $ g $ to reach $ C $. Graphically:"
   ]
  },
  {
   "cell_type": "markdown",
   "metadata": {},
   "source": [
    "![2 commute diagrams that shows composition](Pictures/Composition.png)"
   ]
  },
  {
   "cell_type": "markdown",
   "metadata": {},
   "source": [
    "Such graphical representations of collections of e.g. sets connected by function are called **diagrams**. We say that diagrams **are commutative** if the composition is commutative, that is if we start from $ A $ and travel to $ C $ in either two possible ways prescribed by the diagram, the result of applying the functions one encounters is the same.\n",
    "<br>Composition is **associative**: if $ f: A \\rightarrow B $, $ g: B \\rightarrow C $, and $ h: C \\rightarrow D $ are functions. then $ h \\circ (g \\circ f) = (h \\circ g) \\circ f $. Graphically, the diagram"
   ]
  },
  {
   "cell_type": "markdown",
   "metadata": {},
   "source": [
    "![Associativity of composition](Pictures/Associativity.png)"
   ]
  },
  {
   "cell_type": "markdown",
   "metadata": {},
   "source": [
    "commutes. \n",
    "<br>The identity function is very special with respect to compositions; if $ f: A \\rightarrow B $ is any function, then $ id_{B} \\circ f = f = f \\circ id_{A} $. Graphically, the diagrams"
   ]
  },
  {
   "cell_type": "markdown",
   "metadata": {},
   "source": [
    "![Identity functions](Pictures/Identity.png)"
   ]
  },
  {
   "cell_type": "markdown",
   "metadata": {},
   "source": [
    "commute."
   ]
  },
  {
   "cell_type": "markdown",
   "metadata": {},
   "source": [
    "### 2.4. Injections, surjections, bijections.\n",
    "A function $ f: A \\rightarrow B $ is **injective**(or **an injection** or **one-to-one**) if\n",
    "$$ a^{'} \\neq a^{''} \\Rightarrow f(a^{'}) \\neq f(a^{''}) $$\n",
    "i.e. $ f $ sends different elements to different elements.\n",
    "<br>A function $ f: A \\rightarrow B $ is **surjective**(or **a surjection** or **onto**) if\n",
    "$$ (\\forall b \\in B)(\\exists a \\in A) \\: b = f(a) $$\n",
    "i.e. f 'covers the whole of B' or $ im(f)  = B $.\n",
    "<br>Injections are often drawn $ \\hookrightarrow $; surjections are often drawn $ \\twoheadrightarrow $.\n",
    "<br>A function $ f $ is **bijective**(or **a bijection** or **a one-to-one correspondence** or **isomorphism of sets**). In this case it writes $ f: A \\xrightarrow{\\thicksim} B $ or $ A \\cong B $, and we say that $ A $ and $ B $ are 'isomorphic' sets.\n",
    "<br>If $ A \\cong B $, then the sets $ A $ and $ B $ may be 'identified' through $ f $, in the sense that we can match precisely the elements $ a $ of $ A $ with the corresponding elements $ f(a) $ of $ B $. E.g. if $ A $ is a finite set and $ A \\cong B $, then $ |A| = |B| $.\n",
    "<br>This terminology allows us to make better sense of the considerations on 'disjoint union' given in §1.3: the 'copies' $ A',B' $ of the given sets $ A,B $ should simply be isomoprhic sets to $ A,B $, respectively. The proposal given at the end of §1.4 to produce such disjoint 'copies' works, because e.g. the function $$ f: A \\rightarrow \\{0\\} \\times A $$ defined by $$ (\\forall a \\in A) \\: f(a) = (0,a) $$ is manifestly a bijection."
   ]
  },
  {
   "cell_type": "markdown",
   "metadata": {},
   "source": [
    "### 2.5. Injections, surjections, bijections: Second viewpoint.\n",
    "There's an alternative and instructive way to think about these notions.\n",
    "<br>If $ f: A\\rightarrow B $ is a bijection, then we can 'flip the graph' and define a function $ g: B \\rightarrow A $, that is, we can let $ a = g(b) $ precisely when $ b = f(a) $. \n",
    "<br>The function $ g $ has a very interesting property: graphically,"
   ]
  },
  {
   "cell_type": "markdown",
   "metadata": {},
   "source": [
    "![InverseFunction](Pictures/InverseFunction.png)"
   ]
  },
  {
   "cell_type": "markdown",
   "metadata": {},
   "source": [
    "commute; that is, $ g \\circ f = id_{A} $ and $ f \\circ g = id_{B} $. The first identity tells us that $ g $ is a *left-inverse*; the second tells us that $ g $ is a *right-inverse* of $ f $. We simply say that it's **the inverse of $ f $**, denoted $ f^{-1} $.Thus, 'bijections have inverses'. Is the converse true?"
   ]
  },
  {
   "cell_type": "markdown",
   "metadata": {},
   "source": [
    "🔶**Proposition 2.1.** *Assume $ A \\neq \\emptyset $, and let $ f: A \\rightarrow B $ be a function, then:*\n",
    " 1. *$ f $ has a left-inverse iff it's injective*\n",
    " 2. *$ f $ has a right-inverse iff it's surjective*"
   ]
  },
  {
   "cell_type": "markdown",
   "metadata": {},
   "source": [
    "<br>**Proof:**⚪️\n",
    "<br>Let's prove 1.\n",
    "<br>$ (\\Rightarrow) $ If $ f: A \\rightarrow B $ has a left-inverse, then there exists a $ g: B \\rightarrow A $ such that $ g \\circ f = id_{A} $. Now assume that $ a^{'} \\neq a^{''} $ are arbitrary different elements in $ A $; then \n",
    "$$ g(f(a^{'})) = id_{A}(a^{'}) = a^{'} \\neq a^{''} = id_{A}(a^{''}) = g(f(a^{''})); $$\n",
    "that is, $ g $ sends $ f(a^{'}) $ and $ f(a^{''}) $ to different elements. This forces $ f(a^{'}) $ and $ f(a{''}) $ to be different, showing that $ f $ is injective.\n",
    "<br> $ (\\Leftarrow) $ Now assume $ f: A \\rightarrow B $ is injective. In order to construct a function $ g: B \\rightarrow A $, we have to assign a unique value $ g(b) \\in A $ for each element $ b \\in B $. For this, choose any fixed element $ s \\in A $ (which we can do because $ A \\neq \\emptyset $); then set\n",
    "$$ g(a) = \\left\\{\n",
    "\\begin{array}{ll}\n",
    "a & if \\: b = f(a) \\: \\mathrm{for \\: some \\:} a \\: \\in A, \\\\\n",
    "s & if \\: b \\notin im(f). \\\\\n",
    "\\end{array}\n",
    "\\right.$$\n",
    "In words, if $ b $ is the image of an element $ a $ of $ A $, send it back to $ a $; otherwise, send it to your fixed element $ s $.\n",
    "The given assignment defines a function, precisely because $ f $ is injective: indeed, this guarantees that every $ b $ that is the image of some $ a \\in A $ by $ f $ is the image of a *unique* $ a $ (2 distinct elements of $ A $ cannot be simultaneously sent to $ b $ by $ f $. since $ f $ is injective). Thus every $ b \\in B $ is sent to a unique well-defined element of $ A $, as is required of functions.\n",
    "<br>Finally, the function $ g: B \\rightarrow A $ is a left-inverse of $ f $. Indeed, if $ a \\in A $, then $ b = f(a) $ is of the first type, so it's sent back to $ a $ by $ g $; that if $ g \\circ f (a) = a = id_{A}(a) $ for all $ a \\in A $ as needed.⚫️ "
   ]
  },
  {
   "cell_type": "markdown",
   "metadata": {},
   "source": [
    "🔶 **Corollary 2.2.** *A function $ f: A \\rightarrow B $ is a bijection iff it has a (two-sided) inverse.*"
   ]
  },
  {
   "cell_type": "markdown",
   "metadata": {},
   "source": [
    "If a function is injective *but not surjective*, then it won't have a right-inverse, and it will necessary have more than one left-inverse. Similarly, a surkective function will in general have many right-inverses; they are often called **sections**."
   ]
  },
  {
   "cell_type": "markdown",
   "metadata": {},
   "source": [
    "The standard notation for *the* inverse of a bijection $ f $ is $ f^{-1} $. This symbol also used for all functions but in a slightly different context: if $ f: \\rightarrow B $ and $ T \\subseteq B $, then $$ f^{-1}(T) = \\{a \\in A | f(a) \\in T\\} $$\n",
    "that is, it denotes the subset of $ A $ of 'all elements that map to $ T $'.\n",
    "<br>If $ T = \\{q\\} $ consists of a single element, $ f^{-1}(T) $ (abbreviated $ f^{-1}(q) $) is called the **fiber** of $ f $ over $ q $.\n",
    "<br>Thus a function $ f:A \\rightarrow B $ is a bijection if it has nonempty fibers over all elements of $ B $ (that is, $ f $ is surjective), and these fibers are singletons ($ f $ is injective)."
   ]
  },
  {
   "cell_type": "markdown",
   "metadata": {},
   "source": [
    "### 2.6. Monomorphisms and epimorphisms.\n",
    "$ f:A \\rightarrow B $ is a **monomorphism** (or **monic**) if for all sets $ Z $ and all functions $ \\alpha', \\alpha'':Z \\rightarrow A $ $$ f \\circ \\alpha' = f \\circ \\alpha'' \\Rightarrow \\alpha' = \\alpha'' $$"
   ]
  },
  {
   "cell_type": "markdown",
   "metadata": {},
   "source": [
    "🔶**Proposition 2.1.** *A function is injective iff it's a monomorphism*"
   ]
  },
  {
   "cell_type": "code",
   "execution_count": null,
   "metadata": {},
   "outputs": [],
   "source": [
    "#proof will be added later"
   ]
  },
  {
   "cell_type": "markdown",
   "metadata": {},
   "source": [
    "$ f:A \\rightarrow B $ is an **epimorphism** if for all sets $ Z $ and all functions $ \\beta', \\beta'':A \\rightarrow Z $\n",
    "$$ \\beta' \\circ f = \\beta'' \\circ f \\Rightarrow \\beta' = \\beta'' $$"
   ]
  },
  {
   "cell_type": "markdown",
   "metadata": {},
   "source": [
    "### 2.7. Basic examples.\n",
    "*Natural projections* $ \\pi_{A}, \\pi_{B} $ defined by $ \\pi_{A}((a,b)) := a $ and $ \\pi_{B}((a,b)) := b $ &nbsp; $ \\forall (a,b) \\in A \\times B $ are surjective\n",
    "<br>Disjoint union $ A \\sqcup B $ is injective \n",
    "<br>If $ \\thicksim $ is an equivalence relation on a set $ A $, then $ A \\rightarrow A/\\thicksim $ is surjective"
   ]
  },
  {
   "cell_type": "markdown",
   "metadata": {},
   "source": [
    "### 2.8. Canonical decomposition\n",
    "Let define $ \\thicksim $ on $ A $ the next way: $$ a\\ \\thicksim a'' \\iff f(a') = f(a'') $$\n",
    "Then:\n",
    "<br>🔶**Theorem 2.7.** *Let $ f: A \\rightarrow B $. Then $ f $ decomposes as follows:*"
   ]
  },
  {
   "cell_type": "markdown",
   "metadata": {},
   "source": [
    "![Function Decomposition](Pictures/FunctionDecomposition.png)"
   ]
  },
  {
   "cell_type": "markdown",
   "metadata": {},
   "source": [
    "such that bijection $ \\bar{f} $ defined by $ \\bar{f}([a]_{\\thicksim}):= f(a) $ for all $ a \\in A $."
   ]
  },
  {
   "cell_type": "code",
   "execution_count": null,
   "metadata": {},
   "outputs": [],
   "source": [
    "#proof later "
   ]
  },
  {
   "cell_type": "markdown",
   "metadata": {},
   "source": [
    "## 3. Categories"
   ]
  },
  {
   "cell_type": "markdown",
   "metadata": {},
   "source": [
    "### 3.1. Definition\n",
    "A **category** C consists of\n",
    " - a class $ Obj(C) $ of **objects** of the category;\n",
    " - a set $ Hom_C(A,B) $of **morphisms** for every 2 objects with the properties below \n",
    "<br><br>\n",
    "Properties of *morphisms*:\n",
    " - The 'identity' on A: $ \\forall A \\in Obj(C)$  $\\exists$  $1_A \\in Hom_{C}(A,B) $.\n",
    " - Composition of morphisms: let $ f \\in Hom_{C}(A,B) $ and $ g \\in Hom_{C}(B,D) $. Then $ gf \\in Hom_C(A,D) $, such that:\n",
    " $$ Hom_C(A,B) \\times Hom_C(B,D) \\rightarrow Hom_C(A,D) $$\n",
    " and the image of $ (f,g) $ is denoted $ gf $.\n",
    " - Composition is associative: if $ f \\in Hom_C(A,B) $, $ g \\in Hom_C(B,D) $ and $ h \\in Hom_C(D,E) $, then:\n",
    " $$ (hg)f = h(gf) $$\n",
    " - The identity morphisms are identities with respect to composition: $ \\forall f \\in Hom_C(A,B) $:\n",
    " $$ f1_A = f = 1_Bf $$\n",
    "<br><br>\n",
    "The sets $ Hom_C(A,B) $ and $ Hom_C(D,E) $ are disjoint unless $ A = D $ and $ B = E $.\n",
    "<br>A morphism of an object $ A $ of a category $ C $ to itself is called an **endomorphism**; $ Hom_C(A,A) $ is denoted $ End_C(A) $.\n",
    "<br>Morphisms can be written with arrows: $ f \\in Hom_C(A,B) $ can be displayed(if the category is understood, one may drop the index $ C $) as $ f: A \\rightarrow B $. This allows one to draw *diagrams* of morphisms in any category, that can be *commutative*\n",
    "<br>A category is **small** if both objects and morhisms are sets."
   ]
  },
  {
   "cell_type": "markdown",
   "metadata": {},
   "source": [
    "### 3.2. Examples.\n",
    "*1.* &nbsp; A category of sets is denoted $ \\mathbf{Set} $ such that :\n",
    " * $ Obj(\\mathbf{Set}) =  $ the class of all sets\n",
    " * $ Hom_{\\mathbf{Set}}(A,B) = B^{A} $"
   ]
  },
  {
   "cell_type": "markdown",
   "metadata": {},
   "source": [
    "*2.* &nbsp; *Discrete* category:\n",
    "<br>Let $ S $ be a set and $ \\thicksim $ is reflexive and transitive relation on $ S $, then:\n",
    " * objects: the elements of $ S $.\n",
    " * morphisms: $ Hom(a,b) =  \\left\\{\n",
    "\\begin{array}{ll}\n",
    "(a,b) & if \\: a \\thicksim b \\\\\n",
    "\\emptyset &  \\mathrm{otherwise} \\\\\n",
    "\\end{array}\n",
    "\\right. $"
   ]
  },
  {
   "cell_type": "markdown",
   "metadata": {},
   "source": [
    "*3.* *Slice* category $ \\mathbf{C_{A}} $:\n",
    "<br>Let $ \\mathbf{C} $ be a category and $ A \\in Obj(\\mathbf{C}) $, then\n",
    " * $ Obj(\\mathbf{C_{A}}) = Hom_{\\mathbf{C}}(Z,A) $ for some $ Z \\in Obj(\\mathbf{C}) $.\n",
    " * Let $ f_1, f_2 $ be objects of $  \\mathbf{C_{A}} $, then $ Hom_{\\mathbf{C_{A}}}(f_1,f_2) = \\{\\sigma\\} $ such that $ f_1 = f_2 \\sigma $.\n",
    "<br>So basically morphisms $ f_1 \\rightarrow f_2 $ are defined to be *commutative diagrams* in the 'ambient' category $ \\mathbf{C} $."
   ]
  },
  {
   "cell_type": "markdown",
   "metadata": {},
   "source": [
    "![Diagram of morphisms](Pictures/MorphismInSliceCat.png)"
   ]
  },
  {
   "cell_type": "markdown",
   "metadata": {},
   "source": [
    "*4.* *Coslice* category $ \\mathbf{C^{A}} $:\n",
    "Similarly to the definition of slice category, but in this case $Obj(\\mathbf{C^{A}}) = Hom_{\\mathbf{C}}(A,Z) $ for some $ Z \\in Obj(\\mathbf{C}) $."
   ]
  },
  {
   "cell_type": "markdown",
   "metadata": {},
   "source": [
    "*5.* Category $ \\mathbf{Set^*} $ - a 'concrete' example of coslice category:\n",
    " * $ Obj(\\mathbf{Set^*}) = \\{f: \\{*\\} \\rightarrow S \\: | \\: S \\in Obj(\\mathbf{Set})\\} $, where $ \\{ * \\} $ - a fixed singleton. It may be denoted as pairs $ (S,s) $, where $f(*) = s $. Objects of $ \\mathbf{Set^*} $ are **pointed sets**.\n",
    " * A morphism between 2 such objects, $ (S,s) \\rightarrow (T,t) $, corresponds to a set-function $ \\sigma = S \\rightarrow T $ *such that* $ \\sigma(s) = t $."
   ]
  },
  {
   "cell_type": "markdown",
   "metadata": {},
   "source": [
    "*6.* Category $ \\mathbf{C_{A,B}} $ that is defined similar to slice category:\n",
    "Let $ \\mathbf{C} $ be a category and $ A, B $ are objects of $ \\mathbf{C} $, then:\n",
    " - $ Obj(\\mathbf{C_{A,B}}) = Hom_{\\mathbf{C}}(Z,A) \\times Hom_{\\mathbf{C}}(Z,B) $ for some $ Z \\in Obj(\\mathbf{C}) $. Basically, $ Obj(\\mathbf{C_{A,B}}) = $ diagrams:"
   ]
  },
  {
   "cell_type": "markdown",
   "metadata": {},
   "source": [
    "![Objects of C_{A,B}](Pictures/ObjectsOfC_{A,B}.png)"
   ]
  },
  {
   "cell_type": "markdown",
   "metadata": {},
   "source": [
    " - $ Hom_{\\mathbf{C_{A,B}}}((f_1,f_2),(g_1,g_2)) = \\{\\sigma\\} $ such that $ f_1 = f_2\\sigma \\: \\land \\: g_1 = g_2 \\sigma$. So:"
   ]
  },
  {
   "cell_type": "markdown",
   "metadata": {},
   "source": [
    "![Morphisms of C_{A,B}](Pictures/MorphismsOfC_{A,B}.png)"
   ]
  },
  {
   "cell_type": "markdown",
   "metadata": {},
   "source": [
    "*7.* $ \\mathbf{C_{\\alpha,\\beta}} $ -The *fibered* version of $ C_{A,B} $(and $ C^{A,B} $):\n",
    "<br>Let $ \\mathbf{C} $ be a category and choose 2 morphisms $ \\alpha: A \\rightarrow C $ and $ \\beta: B \\rightarrow C $, then:\n",
    " - $ Obj(\\mathbf{C_{\\alpha,\\beta}}) $= commutative diagrams:"
   ]
  },
  {
   "cell_type": "markdown",
   "metadata": {},
   "source": [
    "![Objects of that category displayed](Pictures/ObjectsOfFiberedVersion.png)"
   ]
  },
  {
   "cell_type": "markdown",
   "metadata": {},
   "source": [
    " - morphisms correspond to commutative diagrams:"
   ]
  },
  {
   "cell_type": "markdown",
   "metadata": {},
   "source": [
    "![Morphisms of that category](Pictures/MorphismsOfFiberedVersion.png)"
   ]
  },
  {
   "cell_type": "markdown",
   "metadata": {},
   "source": [
    "## 4. Morphisms"
   ]
  },
  {
   "cell_type": "markdown",
   "metadata": {},
   "source": [
    "### 4.1. Isomorphisms.\n",
    "A morphism $ f \\in Hom_{\\mathbf{C}}(A,B) $ is an **isomorphism** if it has a (two-sided) inverse under composition: $ \\exists g\\in Hom_{\\mathbf{C}}(B,A) $ such that:\n",
    "$$ gf = 1_A, \\: fg = 1_B $$\n",
    "<br>Two objects of a category are *isomorphic* if there's an isomorphism between them. If $ A, B $ are isomorphic, one writes $ A \\cong B $.\n",
    "<br>A category in which *every* morphism is an isomorphism is a **groupoid**.\n",
    "<br>🔶**Proposition 4.2.** *The inverse of an isomorphism is *unique**"
   ]
  },
  {
   "cell_type": "code",
   "execution_count": null,
   "metadata": {},
   "outputs": [],
   "source": [
    "#proof will be added later"
   ]
  },
  {
   "cell_type": "markdown",
   "metadata": {},
   "source": [
    "🔶**Proposition 4.3.** *With notation as above:*\n",
    " - *$ 1_A $ is an isomorphism and is its own inverse.*\n",
    " - *if $ f $ is an isomoprhism, then $ f^{-1} $ is an isomoprhism and further $ (f^{-1})^{-1} = f $.*\n",
    " - *if $ f \\in Hom(A,B) $ and $ g \\in Hom(B,C) $ are isomorphisms, then the composition $ gf $ is an isomorphism and $ (gf)^{-1} = f^{-1}g^{-1} $.*"
   ]
  },
  {
   "cell_type": "code",
   "execution_count": 3,
   "metadata": {},
   "outputs": [],
   "source": [
    "# proof will be added later"
   ]
  },
  {
   "cell_type": "markdown",
   "metadata": {},
   "source": [
    "An **automorphism** of an object $ A $ of a category $ C $ is an isomorphism from $ A $ to itself. The set of automorphisms of $ A $ is denoted $ Aut_{\\mathbf{C}}(A) $. Obviously, $ Aut_{\\mathbf{C}}(A) \\subseteq End_{\\mathbf{C}}(A) $. <br>By Proposition 4.3. $ Aut_{\\mathbf{C}}(A) $ is a *group*."
   ]
  },
  {
   "cell_type": "markdown",
   "metadata": {},
   "source": [
    "### 4.2. Monomorphisms and epimorphisms.\n",
    "Both of them will be defined as in §2.6:\n",
    "<br>Let $ C $ be a category. \n",
    "<br>A morphism $ f \\in Hom_{\\mathbf{C}}(A,B) $ is a **monomorphism** if $$ \\forall Z \\in Obj(\\mathbf{C}) \\: \\land \\: \\forall \\alpha', \\: \\alpha'' \\in Hom_{\\mathbf{C}}(Z,A): \\: \\:  f \\circ \\alpha' = f \\circ \\alpha'' \\Rightarrow \\alpha' = \\alpha''$$\n",
    "<br>A morphism $ f \\in Hom_{\\mathbf{C}}(A,B) $ is a **epimorphism** if $$ \\forall Z \\in Obj(\\mathbf{C}) \\: \\land \\: \\forall \\beta', \\: \\beta'' \\in Hom_{\\mathbf{C}}(B,Z): \\: \\:  \\beta' \\circ f  = \\beta'' \\circ f \\Rightarrow \\beta' = \\beta''$$\n",
    "<br>In $ \\mathbf{Set} $ a function is an isomorphism iff it's both monomorphism and epimorhism, but in general it doesn't hold for arbitrary category. E.g. it won't hold in the category $ \\mathbf{Ring} $ of *rings*. This property is a special feature of $ \\mathbf{Set} $. Also it will hold in every *abelian category* (of which $ \\mathbf{Set} $ *isn't* an example!)."
   ]
  },
  {
   "cell_type": "markdown",
   "metadata": {},
   "source": [
    "## 5. Universal properties"
   ]
  },
  {
   "cell_type": "markdown",
   "metadata": {},
   "source": [
    "### 5.1. Initial and final objects.\n",
    "Let $ \\mathbf{C} $ be a category. $ I \\in Obj(\\mathbf{C}) $ is **initial** in $ \\mathbf{C} $ if $ \\forall A \\in Obj(\\mathbf{C}) \\: \\exists! I \\rightarrow A $,<br> In other words $ \\forall A \\in Obj(\\mathbf{C}): \\: Hom_{\\mathbf{C}}(I,A) $ is a singleton.\n",
    "<br>Object $ F $ of $ \\mathbf{C} $ is **final** in $ \\mathbf{C} $ if $ \\forall A \\in Obj(\\mathbf{C}): \\: Hom_{\\mathbf{C}}(A,F) $ is a singleton.\n",
    "<br>One may use *terminal* to denote either possibility.\n",
    "<br>🔶**Proposition 5.4.** *Let $ \\mathbf{C} $ be a category, then these isomorphisms are uniquely determined:*\n",
    " - *If $ I_1, I_2 $ are both initial objects in $ \\mathbf{C} $,then $ I_1 \\cong I_2 $*\n",
    " - *If $ F_1, F_2 $ are both final objects in $ \\mathbf{C} $, then $ F_1 \\cong F_2 $*"
   ]
  },
  {
   "cell_type": "code",
   "execution_count": 1,
   "metadata": {},
   "outputs": [],
   "source": [
    "# proof will be added later"
   ]
  },
  {
   "cell_type": "markdown",
   "metadata": {},
   "source": [
    "### 5.2. Universal properties.\n",
    "We say that a construction **satisfies a universal property** (or 'is the solution to a universal problem') when it may be viewed as a terminal object of a category.\n",
    "<br>E.g. $ \\emptyset $ is *universal with respect to the property of mapping to sets*; this is synonymous with the assertion that $ \\emptyset $ is initial in the category of $ \\mathbf{Set} $.\n",
    "<br>***Examples:***"
   ]
  },
  {
   "cell_type": "markdown",
   "metadata": {},
   "source": [
    "### 5.3. Quotients.\n",
    "Let $ \\thicksim $ be an equivalence relation defined on a set $ A $.\n",
    "<br>The assertion is that the quotient $ A/\\thicksim $ is universal with respect to the property of mapping $ A $ to a set in such a way that equivalent elements have the same image.\n",
    "<br>It means next:\n",
    "<br>Let's consider a coslice category with the property $$ a' \\thicksim a'' \\Rightarrow \\varphi(a') = \\varphi(a'') $$ For convinience, denote such an object by $ (\\varphi, Z) $, then:\n",
    "<br>🔶**Claim 5.5.** *The pair $ (\\pi, A/\\thicksim) $ is an initial object of that category*"
   ]
  },
  {
   "cell_type": "code",
   "execution_count": 2,
   "metadata": {},
   "outputs": [],
   "source": [
    "#proof will be added later"
   ]
  },
  {
   "cell_type": "markdown",
   "metadata": {},
   "source": [
    "Easily to realize, that $ im(f) $ also satisfies the universal property, therefore $ im(f) \\cong A/\\thicksim $ (by Proposition 5.4. and it leads to the content of Theorem 2.7.)"
   ]
  }
 ],
 "metadata": {
  "kernelspec": {
   "display_name": "Python 3",
   "language": "python",
   "name": "python3"
  },
  "language_info": {
   "codemirror_mode": {
    "name": "ipython",
    "version": 3
   },
   "file_extension": ".py",
   "mimetype": "text/x-python",
   "name": "python",
   "nbconvert_exporter": "python",
   "pygments_lexer": "ipython3",
   "version": "3.7.1"
  }
 },
 "nbformat": 4,
 "nbformat_minor": 2
}
